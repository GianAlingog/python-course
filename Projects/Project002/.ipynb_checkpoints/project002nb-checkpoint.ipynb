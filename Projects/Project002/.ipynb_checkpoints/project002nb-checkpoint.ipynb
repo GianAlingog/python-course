{
 "cells": [
  {
   "cell_type": "code",
   "execution_count": 7,
   "id": "eec703dd",
   "metadata": {},
   "outputs": [
    {
     "data": {
      "text/plain": [
       "array(['HipHop', 'Dance', 'Classical'], dtype=object)"
      ]
     },
     "execution_count": 7,
     "metadata": {},
     "output_type": "execute_result"
    }
   ],
   "source": [
    "import pandas as pd\n",
    "from sklearn.tree import DecisionTreeClassifier\n",
    "from sklearn.model_selection import train_test_split\n",
    "from sklearn.metrics import accuracy_score\n",
    "\n",
    "# import the data from the csv\n",
    "music_data = pd.read_csv(\"music.csv\")\n",
    "\n",
    "# we must split the data into two data sets\n",
    "# age and gender; input set\n",
    "# genre; output set\n",
    "X = music_data.drop(columns=[\"genre\"]) # by convention, we use capital X\n",
    "                                       # for naming this set\n",
    "                                       # \"drops\" the \"genre\" column,\n",
    "                                       # leaving the other two\n",
    "\n",
    "Y = music_data[\"genre\"]                # by convention, we use y\n",
    "                                       # for naming this set\n",
    "                                       # creates a new set with the\n",
    "                                       # \"genre\" column\n",
    "\n",
    "# split the data into data for training (80%) and testing (20%), hence 0.2 size\n",
    "X_train, X_test, y_train, y_test = train_test_split(X, y, test_size=0.2)\n",
    "            \n",
    "# modeling / training\n",
    "model = DecisionTreeClassifier()\n",
    "model.fit(X_train.values, y_train.values) # takes the input set and the output set\n",
    "\n",
    "# predictions after training\n",
    "predictions = model.predict(X_test)\n",
    "\n",
    "# measuring the accuracy of the predictions\n",
    "score = accuracy_score(y_test, predictions)\n",
    "score"
   ]
  },
  {
   "cell_type": "code",
   "execution_count": null,
   "id": "39c6a9a0",
   "metadata": {},
   "outputs": [],
   "source": []
  }
 ],
 "metadata": {
  "kernelspec": {
   "display_name": "Python 3 (ipykernel)",
   "language": "python",
   "name": "python3"
  },
  "language_info": {
   "codemirror_mode": {
    "name": "ipython",
    "version": 3
   },
   "file_extension": ".py",
   "mimetype": "text/x-python",
   "name": "python",
   "nbconvert_exporter": "python",
   "pygments_lexer": "ipython3",
   "version": "3.9.12"
  }
 },
 "nbformat": 4,
 "nbformat_minor": 5
}
